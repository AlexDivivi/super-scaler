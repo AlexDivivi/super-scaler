{
 "cells": [
  {
   "cell_type": "code",
   "execution_count": 1,
   "metadata": {},
   "outputs": [],
   "source": [
    "import pickle\n",
    "import numpy as np\n",
    "import torch\n",
    "import torch.nn as nn\n",
    "from matplotlib import pyplot as plt\n",
    "import math"
   ]
  },
  {
   "cell_type": "code",
   "execution_count": 2,
   "metadata": {},
   "outputs": [
    {
     "data": {
      "text/plain": [
       "(794, 90000, 3)"
      ]
     },
     "execution_count": 2,
     "metadata": {},
     "output_type": "execute_result"
    }
   ],
   "source": [
    "lf = 3\n",
    "pkl_file = open(f'../data/cat{lf}.pkl', 'rb')\n",
    "\n",
    "data = pickle.load(pkl_file)\n",
    "pkl_file.close()\n",
    "data.shape"
   ]
  },
  {
   "cell_type": "code",
   "execution_count": 3,
   "metadata": {},
   "outputs": [
    {
     "data": {
      "text/plain": [
       "(11910, 6000, 3)"
      ]
     },
     "execution_count": 3,
     "metadata": {},
     "output_type": "execute_result"
    }
   ],
   "source": [
    "image_chop = 15\n",
    "data = data.reshape(int(data.shape[0] * image_chop), int(data.shape[1] / image_chop), 3)\n",
    "data.shape"
   ]
  },
  {
   "cell_type": "code",
   "execution_count": 4,
   "metadata": {},
   "outputs": [],
   "source": [
    "device = torch.device('cuda:0')"
   ]
  },
  {
   "cell_type": "code",
   "execution_count": 5,
   "metadata": {},
   "outputs": [],
   "source": [
    "x = torch.tensor(data, dtype=torch.float32, device=device)"
   ]
  },
  {
   "cell_type": "code",
   "execution_count": 6,
   "metadata": {},
   "outputs": [
    {
     "data": {
      "text/plain": [
       "torch.Size([11910, 6000, 3])"
      ]
     },
     "execution_count": 6,
     "metadata": {},
     "output_type": "execute_result"
    }
   ],
   "source": [
    "x.shape"
   ]
  },
  {
   "cell_type": "code",
   "execution_count": 7,
   "metadata": {},
   "outputs": [],
   "source": [
    "# params\n",
    "N = x.shape[0]\n",
    "D_in = x.shape[1]\n",
    "H1 = 3000\n",
    "D_out = 900\n",
    "\n",
    "learning_rate = 0.001\n",
    "batch_size = image_chop * 100\n",
    "epochs = 200\n",
    "\n",
    "# Regularisierung\n",
    "weight_decay=0.001"
   ]
  },
  {
   "cell_type": "code",
   "execution_count": 8,
   "metadata": {},
   "outputs": [],
   "source": [
    "# Neural Network\n",
    "class autoencoder(nn.Module):\n",
    "    def __init__(self):\n",
    "        super(autoencoder, self).__init__()\n",
    "        \n",
    "        self.encoder = torch.nn.Sequential(\n",
    "            nn.Linear(D_in, H1),\n",
    "            nn.ReLU(),\n",
    "            nn.Linear(H1, D_out)\n",
    "        )\n",
    "\n",
    "        self.decoder = torch.nn.Sequential(\n",
    "            nn.Linear(D_out, H1),\n",
    "            nn.ReLU(),\n",
    "            nn.Linear(H1, D_in),\n",
    "            nn.Sigmoid()\n",
    "        )\n",
    "        \n",
    "    def forward(self, x):\n",
    "        x = self.encoder(x)\n",
    "        x = self.decoder(x)\n",
    "        return x"
   ]
  },
  {
   "cell_type": "code",
   "execution_count": 9,
   "metadata": {},
   "outputs": [],
   "source": [
    "model = autoencoder().cuda()"
   ]
  },
  {
   "cell_type": "code",
   "execution_count": 10,
   "metadata": {},
   "outputs": [],
   "source": [
    "optimizer = torch.optim.Adam(model.parameters(), lr=learning_rate, weight_decay=weight_decay)\n",
    "criterion = nn.MSELoss()"
   ]
  },
  {
   "cell_type": "code",
   "execution_count": 11,
   "metadata": {},
   "outputs": [
    {
     "name": "stdout",
     "output_type": "stream",
     "text": [
      "0 0.14345239102840424\n",
      "5 0.32951003313064575\n",
      "10 0.31159135699272156\n",
      "15 0.3093957304954529\n",
      "20 0.26720523834228516\n",
      "25 0.2977370023727417\n",
      "30 0.09149613976478577\n",
      "35 0.14989641308784485\n",
      "40 0.34321674704551697\n",
      "45 0.33934372663497925\n",
      "50 0.3356911838054657\n",
      "55 0.32677870988845825\n",
      "60 0.11002571880817413\n",
      "65 0.2136235386133194\n",
      "70 0.33636313676834106\n",
      "75 0.3491259515285492\n",
      "80 0.29821398854255676\n",
      "85 0.3552260398864746\n",
      "90 0.3541448414325714\n",
      "95 0.35278981924057007\n",
      "100 0.3494958281517029\n",
      "105 0.3142120838165283\n",
      "110 0.3091026544570923\n",
      "115 0.323844850063324\n",
      "120 0.2232712209224701\n",
      "125 0.34935852885246277\n",
      "130 0.33290818333625793\n",
      "135 0.32881003618240356\n",
      "140 0.30296313762664795\n",
      "145 0.11596310883760452\n",
      "150 0.3473743796348572\n",
      "155 0.35706040263175964\n",
      "160 0.35853034257888794\n",
      "165 0.2939585745334625\n",
      "170 0.3537668287754059\n",
      "175 0.34583941102027893\n",
      "180 0.3507217764854431\n",
      "185 0.3349536657333374\n",
      "190 0.3433506190776825\n",
      "195 0.35242077708244324\n"
     ]
    }
   ],
   "source": [
    "# Train\n",
    "loss_hist = []\n",
    "for t in range(epochs):\n",
    "    for batch in range(0, int(N/batch_size)):\n",
    "        # Berechne den Batch\n",
    "        batch_x = x[batch * batch_size : (batch + 1) * batch_size, :].transpose(1, 2)\n",
    "        \n",
    "        # Berechne die Vorhersage (foward step)\n",
    "        outputs = model.forward(batch_x)\n",
    "        \n",
    "        # Berechne den Fehler\n",
    "        loss = criterion(outputs, batch_x)\n",
    "        \n",
    "        # Berechne die Gradienten und Aktualisiere die Gewichte (backward step)\n",
    "        optimizer.zero_grad()\n",
    "        loss.backward()\n",
    "        optimizer.step()\n",
    "        \n",
    "    # Berechne den Fehler (Ausgabe des Fehlers alle x Iterationen)\n",
    "    if t % 5 == 0:\n",
    "        loss_hist.append(loss.item())\n",
    "        print(t, loss.item())"
   ]
  },
  {
   "cell_type": "code",
   "execution_count": 12,
   "metadata": {},
   "outputs": [
    {
     "data": {
      "text/plain": [
       "[<matplotlib.lines.Line2D at 0x7f1842b23b38>]"
      ]
     },
     "execution_count": 12,
     "metadata": {},
     "output_type": "execute_result"
    },
    {
     "data": {
      "image/png": "[encoded data removed]",
      "text/plain": [
       "<Figure size 432x288 with 1 Axes>"
      ]
     },
     "metadata": {
      "needs_background": "light"
     },
     "output_type": "display_data"
    }
   ],
   "source": [
    "plt.plot(loss_hist)"
   ]
  },
  {
   "cell_type": "code",
   "execution_count": null,
   "metadata": {},
   "outputs": [],
   "source": []
  }
 ],
 "metadata": {
  "kernelspec": {
   "display_name": "Python 3",
   "language": "python",
   "name": "python3"
  },
  "language_info": {
   "codemirror_mode": {
    "name": "ipython",
    "version": 3
   },
   "file_extension": ".py",
   "mimetype": "text/x-python",
   "name": "python",
   "nbconvert_exporter": "python",
   "pygments_lexer": "ipython3",
   "version": "3.7.3"
  }
 },
 "nbformat": 4,
 "nbformat_minor": 2
}
